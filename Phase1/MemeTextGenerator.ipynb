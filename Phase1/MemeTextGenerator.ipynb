{
 "cells": [
  {
   "cell_type": "code",
   "execution_count": 3,
   "metadata": {},
   "outputs": [],
   "source": [
    "from xpinyin import Pinyin\n",
    "import eng_to_ipa\n",
    "import Levenshtein\n",
    "import numpy as np\n",
    "import epitran"
   ]
  },
  {
   "cell_type": "code",
   "execution_count": 78,
   "metadata": {},
   "outputs": [],
   "source": [
    "class MemeTextGenerator:\n",
    "    def __init__(self, word_file, delimiter='\\n'):\n",
    "        with open(word_file, 'r') as f:\n",
    "            self.words = f.read().strip().split(delimiter)\n",
    "        self.words = np.array(self.words)\n",
    "        epi = epitran.Epitran('eng-Latn', ligatures=True)\n",
    "        vowels = ['ə', 'æ', 'ɪ', 'i', 'e', 'ɔ', 'a', 'ʌ', 'u', 'ɛ', 'ɑ', 'o', 'ʊ']\n",
    "        consonants = ['b', 'n', 'd', 'l', 't', 'j', 'ɹ', 'ʃ', 'w', 'v', 's', 'z', 'k', 'm', 'p', 'ŋ', 'ɹ̩', 'ʤ', 'ʧ', 'ʒ', 'f', 'ɡ', 'h', 'ð', 'θ']\n",
    "        ipa2py = {'-':[''],\n",
    "                 'ə':['e', 'a'], 'æ':['e'], 'ɪ':['i'], 'i':['i'], 'e':['e'], 'ɔ':['o'], 'a':['a'], 'ʌ':['a'], 'u':['u'], 'ɛ':['e'], 'ɑ':['a'], 'o':['o'], 'ʊ':['u'], \n",
    "                 'ow':['ou'], 'aw':['ao'], 'iə':['ia'], 'əwə':['uo', 'wo'], 'əwəl':['uo', 'wo'], 'əl':['ou'], \n",
    "                 'j':['i'], 'ɹ':['r'], 'ʃ':['xi','sh'], 'v':['f'], 's':['s','sh'],'z':['z'], 'ŋ':['ng'], 'ɹ̩':['er'], 'ʤ':['ju', 'zhe'], 'ʧ':['qi', 'qu'], 'ʒ':['ju', 'zhe'], 'ð':['l'], 'θ':['s', 'sh'], 'l':['o'], \n",
    "                 'tɹ':['ch'], 'tɹ̩':['ter'], 'dɹ':['zh'], 'dɹ̩':['der'], 'lɹ̩':['ler'], 'kw':['ku'], \"dz\":['zi'], \"ts\":['ci']}\n",
    "\n",
    "        def ipa_2_py(ipa):\n",
    "            py = ['']\n",
    "            index = 0\n",
    "            L = len(ipa)\n",
    "            while index < L:\n",
    "                if index+3 < L and ipa[index:index+4] in ipa2py:\n",
    "                    k = 4\n",
    "                    py_num = len(py)\n",
    "                    for i in range(1, len(ipa2py[ipa[index:index+k]])):\n",
    "                        for j in range(py_num):\n",
    "                            py.append(py[j] + ipa2py[ipa[index:index+k]][i])\n",
    "                    for j in range(py_num):\n",
    "                        py[j] += ipa2py[ipa[index:index+k]][0]\n",
    "                    index += k\n",
    "                elif index+2 < L and ipa[index:index+3] in ipa2py:\n",
    "                    k = 3\n",
    "                    py_num = len(py)\n",
    "                    for i in range(1, len(ipa2py[ipa[index:index+k]])):\n",
    "                        for j in range(py_num):\n",
    "                            py.append(py[j] + ipa2py[ipa[index:index+k]][i])\n",
    "                    for j in range(py_num):\n",
    "                        py[j] += ipa2py[ipa[index:index+k]][0]\n",
    "                    index += k\n",
    "                elif index+1 < L and ipa[index:index+2] in ipa2py:\n",
    "                    k = 2\n",
    "                    py_num = len(py)\n",
    "                    for i in range(1, len(ipa2py[ipa[index:index+k]])):\n",
    "                        for j in range(py_num):\n",
    "                            py.append(py[j] + ipa2py[ipa[index:index+k]][i])\n",
    "                    for j in range(py_num):\n",
    "                        py[j] += ipa2py[ipa[index:index+k]][0]\n",
    "                    index += k\n",
    "                elif ipa[index] == 'l' and index+1 < L and ipa[index+1] in vowels:\n",
    "                    for i in range(len(py)):\n",
    "                        py[i] += ipa[index]\n",
    "                    index += 1\n",
    "                elif ipa[index] in ipa2py:\n",
    "                    py_num = len(py)\n",
    "                    for i in range(1, len(ipa2py[ipa[index]])):\n",
    "                        for j in range(py_num):\n",
    "                            py.append(py[j] + ipa2py[ipa[index]][i])\n",
    "                    for j in range(py_num):\n",
    "                        py[j] += ipa2py[ipa[index]][0]\n",
    "                    index += 1\n",
    "                else:\n",
    "                    for i in range(len(py)):\n",
    "                        py[i] += ipa[index]\n",
    "                    index += 1\n",
    "            return py\n",
    "        \n",
    "        self.candidates = []\n",
    "        for word in self.words:\n",
    "            ipa = epi.transliterate(word)\n",
    "            py = ipa_2_py(ipa)\n",
    "            self.candidates.append((word, py))\n",
    "    \n",
    "    def generate(self, s):\n",
    "        p = Pinyin()\n",
    "        min_distance = float('inf')\n",
    "        distances = []\n",
    "        cand_words = []\n",
    "        for i in range(len(s)-1):\n",
    "            chs = p.get_pinyin(s[i:i+2]).split('-')\n",
    "            target = ''.join(chs)\n",
    "            target = target.replace('y', 'i')\n",
    "            ds = []\n",
    "            for cand in self.candidates:\n",
    "                d = []\n",
    "                for py in cand[1]:\n",
    "                    if py[0] != target[0]: d.append(10)\n",
    "                    else: d.append(Levenshtein.distance(py, target, weights=(1, 1, 2)))\n",
    "                ds.append(min(d))\n",
    "            ds = np.array(ds)\n",
    "            cand_words.append(self.words[ds == min(ds)])\n",
    "            distances.append(min(ds))\n",
    "        min_distance = min(distances)\n",
    "        if min_distance > 2:\n",
    "            return None\n",
    "        results = []\n",
    "        for i in range(len(s)-1):\n",
    "            if distances[i] == min_distance:\n",
    "                for word in cand_words[i]:\n",
    "                    results.append(s[:i] + word + s[i+2:])\n",
    "        return results"
   ]
  },
  {
   "cell_type": "code",
   "execution_count": 79,
   "metadata": {},
   "outputs": [],
   "source": [
    "generator = MemeTextGenerator('vocabulary3000.txt')"
   ]
  },
  {
   "cell_type": "code",
   "execution_count": 81,
   "metadata": {},
   "outputs": [
    {
     "name": "stdout",
     "output_type": "stream",
     "text": [
      "['有barrier來', '有備airline', '有備ally', '有備early']\n"
     ]
    }
   ],
   "source": [
    "s = u''\n",
    "result = generator.generate(s)\n",
    "print(result)"
   ]
  }
 ],
 "metadata": {
  "kernelspec": {
   "display_name": "Python 3 (ipykernel)",
   "language": "python",
   "name": "python3"
  },
  "language_info": {
   "codemirror_mode": {
    "name": "ipython",
    "version": 3
   },
   "file_extension": ".py",
   "mimetype": "text/x-python",
   "name": "python",
   "nbconvert_exporter": "python",
   "pygments_lexer": "ipython3",
   "version": "3.8.10"
  },
  "latex_envs": {
   "LaTeX_envs_menu_present": true,
   "autoclose": false,
   "autocomplete": true,
   "bibliofile": "biblio.bib",
   "cite_by": "apalike",
   "current_citInitial": 1,
   "eqLabelWithNumbers": true,
   "eqNumInitial": 1,
   "hotkeys": {
    "equation": "Ctrl-E",
    "itemize": "Ctrl-I"
   },
   "labels_anchors": false,
   "latex_user_defs": false,
   "report_style_numbering": false,
   "user_envs_cfg": false
  }
 },
 "nbformat": 4,
 "nbformat_minor": 2
}
